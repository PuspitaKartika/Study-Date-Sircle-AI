{
  "nbformat": 4,
  "nbformat_minor": 0,
  "metadata": {
    "colab": {
      "provenance": []
    },
    "kernelspec": {
      "name": "python3",
      "display_name": "Python 3"
    },
    "language_info": {
      "name": "python"
    }
  },
  "cells": [
    {
      "cell_type": "markdown",
      "source": [
        "TIPE DATA"
      ],
      "metadata": {
        "id": "MbY3tWJjAoHZ"
      }
    },
    {
      "cell_type": "code",
      "source": [
        "A = 30\n",
        "print(A)\n",
        "print(type(A))"
      ],
      "metadata": {
        "colab": {
          "base_uri": "https://localhost:8080/"
        },
        "id": "3y5A5C17ArA4",
        "outputId": "0b68c2cc-f62f-46b0-d8cf-447e62fa7b37"
      },
      "execution_count": null,
      "outputs": [
        {
          "output_type": "stream",
          "name": "stdout",
          "text": [
            "30\n",
            "<class 'int'>\n"
          ]
        }
      ]
    },
    {
      "cell_type": "code",
      "source": [
        "B = 0.25\n",
        "print (B)\n",
        "print(type(B))"
      ],
      "metadata": {
        "colab": {
          "base_uri": "https://localhost:8080/"
        },
        "id": "aLHtawfHQhfh",
        "outputId": "774ab504-558d-46c8-f750-87144698b1cf"
      },
      "execution_count": null,
      "outputs": [
        {
          "output_type": "stream",
          "name": "stdout",
          "text": [
            "0.25\n",
            "<class 'float'>\n"
          ]
        }
      ]
    },
    {
      "cell_type": "code",
      "source": [
        "contoh_dictionary = {'nama':'sicle' , 'nim':'1234'}\n",
        "print(contoh_dictionary)\n",
        "print(type(contoh_dictionary))"
      ],
      "metadata": {
        "colab": {
          "base_uri": "https://localhost:8080/"
        },
        "id": "EUFilrtiR6RA",
        "outputId": "d0a7a213-37e2-493d-a6ba-e8143d876348"
      },
      "execution_count": null,
      "outputs": [
        {
          "output_type": "stream",
          "name": "stdout",
          "text": [
            "{'nama': 'sicle', 'nim': '1234'}\n",
            "<class 'dict'>\n"
          ]
        }
      ]
    },
    {
      "cell_type": "code",
      "source": [
        "print(contoh_dictionary.keys())"
      ],
      "metadata": {
        "colab": {
          "base_uri": "https://localhost:8080/"
        },
        "id": "9ljRB3BNSSzP",
        "outputId": "5ee05804-c01d-4cbe-b75e-21af858020fe"
      },
      "execution_count": null,
      "outputs": [
        {
          "output_type": "stream",
          "name": "stdout",
          "text": [
            "dict_keys(['nama', 'nim'])\n"
          ]
        }
      ]
    },
    {
      "cell_type": "code",
      "source": [
        "print(contoh_dictionary.values())"
      ],
      "metadata": {
        "colab": {
          "base_uri": "https://localhost:8080/"
        },
        "id": "9wBrIk8sScW0",
        "outputId": "5de7664c-f5a7-434b-a513-76aabebe32a9"
      },
      "execution_count": null,
      "outputs": [
        {
          "output_type": "stream",
          "name": "stdout",
          "text": [
            "dict_values(['sicle', '1234'])\n"
          ]
        }
      ]
    },
    {
      "cell_type": "code",
      "source": [
        "kondisi = 10 < 0\n",
        "kondisi2 = 10 > 0\n",
        "print(kondisi)\n",
        "print(kondisi2)"
      ],
      "metadata": {
        "colab": {
          "base_uri": "https://localhost:8080/"
        },
        "id": "zTTMh__tSkTk",
        "outputId": "605bc620-9a59-4eb2-c38f-e075f56eba66"
      },
      "execution_count": null,
      "outputs": [
        {
          "output_type": "stream",
          "name": "stdout",
          "text": [
            "False\n",
            "True\n"
          ]
        }
      ]
    },
    {
      "cell_type": "code",
      "source": [
        "contoh_set = {1,2,3,'a','b','c'}\n",
        "print(contoh_set)\n",
        "print(type(contoh_set))"
      ],
      "metadata": {
        "colab": {
          "base_uri": "https://localhost:8080/"
        },
        "id": "A--hUTb6SyO1",
        "outputId": "d5036312-b75c-4156-d8a7-cb51ff1a872a"
      },
      "execution_count": null,
      "outputs": [
        {
          "output_type": "stream",
          "name": "stdout",
          "text": [
            "{1, 2, 3, 'a', 'c', 'b'}\n",
            "<class 'set'>\n"
          ]
        }
      ]
    },
    {
      "cell_type": "code",
      "source": [
        "contoh_list = ['aku', 1, 2]\n",
        "print(contoh_list)\n",
        "print(type(contoh_list))"
      ],
      "metadata": {
        "colab": {
          "base_uri": "https://localhost:8080/"
        },
        "id": "Z09D8f6ITgfC",
        "outputId": "23f4cbfd-0bbe-46cb-82c2-9cf654fc1c97"
      },
      "execution_count": null,
      "outputs": [
        {
          "output_type": "stream",
          "name": "stdout",
          "text": [
            "['aku', 1, 2]\n",
            "<class 'list'>\n"
          ]
        }
      ]
    },
    {
      "cell_type": "code",
      "source": [
        "contoh_tuple = ('aku', 1, 2)\n",
        "print(contoh_tuple)\n",
        "print(type(contoh_tuple))"
      ],
      "metadata": {
        "colab": {
          "base_uri": "https://localhost:8080/"
        },
        "id": "Ys2pR8VAT72c",
        "outputId": "36c9835e-3de3-40b7-d3b4-af6caf19a5c8"
      },
      "execution_count": null,
      "outputs": [
        {
          "output_type": "stream",
          "name": "stdout",
          "text": [
            "('aku', 1, 2)\n",
            "<class 'tuple'>\n"
          ]
        }
      ]
    },
    {
      "cell_type": "code",
      "source": [
        "kata = \"Aku anak Sircle\"\n",
        "print(kata)\n",
        "print(type(kata))"
      ],
      "metadata": {
        "colab": {
          "base_uri": "https://localhost:8080/"
        },
        "id": "aIhjj9PFUG2D",
        "outputId": "ef178c56-7726-442a-e97d-97c46ddd111c"
      },
      "execution_count": null,
      "outputs": [
        {
          "output_type": "stream",
          "name": "stdout",
          "text": [
            "Aku anak Sircle\n",
            "<class 'str'>\n"
          ]
        }
      ]
    },
    {
      "cell_type": "markdown",
      "source": [
        "OPERATOR ARITMATIKA"
      ],
      "metadata": {
        "id": "wi1W_kgpUeFN"
      }
    },
    {
      "cell_type": "code",
      "source": [
        "A = 5\n",
        "B = 2\n",
        "hasil = A // B #+,-,/,*,%,**,//\n",
        "print (hasil)"
      ],
      "metadata": {
        "colab": {
          "base_uri": "https://localhost:8080/"
        },
        "id": "2mBzKlwKUUGh",
        "outputId": "2ae6c37d-6437-4b55-9a6c-9bc03fec04b5"
      },
      "execution_count": null,
      "outputs": [
        {
          "output_type": "stream",
          "name": "stdout",
          "text": [
            "2\n"
          ]
        }
      ]
    },
    {
      "cell_type": "markdown",
      "source": [
        "OPERATOR PERBANDINGAN\n"
      ],
      "metadata": {
        "id": "VzVuSqJmU3u1"
      }
    },
    {
      "cell_type": "code",
      "source": [
        "cek = A <= B # ==, != , < , > , <= , >=\n",
        "print(cek)"
      ],
      "metadata": {
        "colab": {
          "base_uri": "https://localhost:8080/"
        },
        "id": "UcuQXCHxVUjS",
        "outputId": "219d93ac-061f-4ec1-c6b8-5e00f59eaf90"
      },
      "execution_count": null,
      "outputs": [
        {
          "output_type": "stream",
          "name": "stdout",
          "text": [
            "False\n"
          ]
        }
      ]
    },
    {
      "cell_type": "markdown",
      "source": [
        "OPERASI PENUGASAN"
      ],
      "metadata": {
        "id": "5Ym07k7pVsTs"
      }
    },
    {
      "cell_type": "code",
      "source": [
        "angka = 5\n",
        "angka += 2 # angka = angka + 2 , -= , *=, /=, **=, //=, %=\n",
        "print(angka)"
      ],
      "metadata": {
        "colab": {
          "base_uri": "https://localhost:8080/"
        },
        "id": "aTYRrCw9Vrcr",
        "outputId": "d021d383-ee77-468d-ee69-312a2553b482"
      },
      "execution_count": null,
      "outputs": [
        {
          "output_type": "stream",
          "name": "stdout",
          "text": [
            "2.5\n"
          ]
        }
      ]
    },
    {
      "cell_type": "markdown",
      "source": [
        "OPERASI LOGIKA"
      ],
      "metadata": {
        "id": "EH0TUOSbWTIb"
      }
    },
    {
      "cell_type": "code",
      "source": [
        "T = True\n",
        "F = False\n",
        "print (T and F) \n",
        "print (T or F)"
      ],
      "metadata": {
        "colab": {
          "base_uri": "https://localhost:8080/"
        },
        "id": "LdtJN4uwWSLL",
        "outputId": "61bf31d6-ae81-4735-ee99-78f1bf5f1380"
      },
      "execution_count": null,
      "outputs": [
        {
          "output_type": "stream",
          "name": "stdout",
          "text": [
            "False\n",
            "True\n"
          ]
        }
      ]
    },
    {
      "cell_type": "markdown",
      "source": [
        "CONTROL FLOW"
      ],
      "metadata": {
        "id": "ujDF_qm_a006"
      }
    },
    {
      "cell_type": "code",
      "source": [
        "angka1 = 0\n",
        "if angka1 > 0:\n",
        "  print(\"bilangan positif\")\n",
        "elif angka1 < 0:\n",
        "  print(\"bilangan negatif\")\n",
        "else :\n",
        "  print(\"bernilai 0\")"
      ],
      "metadata": {
        "colab": {
          "base_uri": "https://localhost:8080/"
        },
        "id": "_sEtCtrSXuJ-",
        "outputId": "87a9dd3c-1c53-4b13-b519-02e571a3da52"
      },
      "execution_count": null,
      "outputs": [
        {
          "output_type": "stream",
          "name": "stdout",
          "text": [
            "bernilai 0\n"
          ]
        }
      ]
    },
    {
      "cell_type": "markdown",
      "source": [
        "ITERATIVE STATEMENT"
      ],
      "metadata": {
        "id": "pRAXGXIice3-"
      }
    },
    {
      "cell_type": "code",
      "source": [
        "for i in range(1, 11):\n",
        "    print(i)"
      ],
      "metadata": {
        "colab": {
          "base_uri": "https://localhost:8080/"
        },
        "id": "z0_a0BEUcJMx",
        "outputId": "bd161c9c-cf26-405d-f0aa-2a0d6d6f185a"
      },
      "execution_count": null,
      "outputs": [
        {
          "output_type": "stream",
          "name": "stdout",
          "text": [
            "1\n",
            "2\n",
            "3\n",
            "4\n",
            "5\n",
            "6\n",
            "7\n",
            "8\n",
            "9\n",
            "10\n"
          ]
        }
      ]
    },
    {
      "cell_type": "code",
      "source": [
        "for a in range(10, 40, 5):\n",
        "    print(a)"
      ],
      "metadata": {
        "colab": {
          "base_uri": "https://localhost:8080/"
        },
        "id": "ZRVRVU0kcs-t",
        "outputId": "fb1da684-6ac5-4b4d-9afa-2d33fae0c528"
      },
      "execution_count": null,
      "outputs": [
        {
          "output_type": "stream",
          "name": "stdout",
          "text": [
            "10\n",
            "15\n",
            "20\n",
            "25\n",
            "30\n",
            "35\n"
          ]
        }
      ]
    },
    {
      "cell_type": "code",
      "source": [
        "angka = 0\n",
        "while angka < 5:\n",
        "    print(\"hallo\", angka)\n",
        "    angka += 1\n"
      ],
      "metadata": {
        "colab": {
          "base_uri": "https://localhost:8080/"
        },
        "id": "Ft6ckwpVc0OE",
        "outputId": "8b8df118-bd5e-49f3-fd77-cfe9c9e36cc3"
      },
      "execution_count": null,
      "outputs": [
        {
          "output_type": "stream",
          "name": "stdout",
          "text": [
            "hallo 0\n",
            "hallo 1\n",
            "hallo 2\n",
            "hallo 3\n",
            "hallo 4\n"
          ]
        }
      ]
    },
    {
      "cell_type": "markdown",
      "source": [
        "TRANSFER STATEMENTS"
      ],
      "metadata": {
        "id": "jMTvJMS4dAdZ"
      }
    },
    {
      "cell_type": "code",
      "source": [
        "for b in range(1, 11):\n",
        "    print(b)\n",
        "    if b is 5:\n",
        "        print(\"Angka ditemukan \", b)\n",
        "        break  # keluar dari proses looping"
      ],
      "metadata": {
        "colab": {
          "base_uri": "https://localhost:8080/"
        },
        "id": "9iSczHOcc-9y",
        "outputId": "69480993-201c-4ece-f00d-997417ccbe21"
      },
      "execution_count": null,
      "outputs": [
        {
          "output_type": "stream",
          "name": "stdout",
          "text": [
            "1\n",
            "2\n",
            "3\n",
            "4\n",
            "5\n",
            "Angka ditemukan  5\n"
          ]
        }
      ]
    },
    {
      "cell_type": "code",
      "source": [
        "for number in range(10):\n",
        "    if number == 5:\n",
        "        continue    # continue here\n",
        "\n",
        "    print('Angka ' + str(number))"
      ],
      "metadata": {
        "colab": {
          "base_uri": "https://localhost:8080/"
        },
        "id": "H4oTdn4setAm",
        "outputId": "84986f85-b7ea-41b3-ad13-9897686fd73e"
      },
      "execution_count": null,
      "outputs": [
        {
          "output_type": "stream",
          "name": "stdout",
          "text": [
            "Angka 0\n",
            "Angka 1\n",
            "Angka 2\n",
            "Angka 3\n",
            "Angka 4\n",
            "Angka 6\n",
            "Angka 7\n",
            "Angka 8\n",
            "Angka 9\n"
          ]
        }
      ]
    },
    {
      "cell_type": "code",
      "source": [
        "for number in range(10):\n",
        "    if number == 5:\n",
        "        pass    # ada tpi ga ada, tidak memiliki tugas apapun\n",
        "\n",
        "    print('Number is ' + str(number))"
      ],
      "metadata": {
        "colab": {
          "base_uri": "https://localhost:8080/"
        },
        "id": "mVwjIHeQfD1H",
        "outputId": "83c74b17-8b93-4c91-b51b-fdef41e45de1"
      },
      "execution_count": null,
      "outputs": [
        {
          "output_type": "stream",
          "name": "stdout",
          "text": [
            "Number is 0\n",
            "Number is 1\n",
            "Number is 2\n",
            "Number is 3\n",
            "Number is 4\n",
            "Number is 5\n",
            "Number is 6\n",
            "Number is 7\n",
            "Number is 8\n",
            "Number is 9\n"
          ]
        }
      ]
    },
    {
      "cell_type": "code",
      "source": [
        "#contohnya klau kita buat fungsi, tpi kita blm tau isinya tuh apa\n",
        "def halaman_utama ():\n",
        "  pass"
      ],
      "metadata": {
        "id": "5WirtmcyfiS6"
      },
      "execution_count": null,
      "outputs": []
    },
    {
      "cell_type": "markdown",
      "source": [
        "DATA MANIPULATION"
      ],
      "metadata": {
        "id": "js1T_R3xfrmM"
      }
    },
    {
      "cell_type": "code",
      "source": [
        "import numpy as np\n",
        "# list python\n",
        "a = [1, 2, 3, 4, 5]\n",
        "b = [6, 7, 8, 9, 10]\n",
        "hasil = a + b\n",
        "print(hasil)\n",
        "\n",
        "# list array\n",
        "anp = np.array([1, 2, 3, 4, 5])\n",
        "bnp = np.array([6, 7, 8, 9, 10])\n",
        "hasil2 = anp + bnp\n",
        "print(hasil2)\n",
        "\n"
      ],
      "metadata": {
        "colab": {
          "base_uri": "https://localhost:8080/"
        },
        "id": "ThctswnJjHwg",
        "outputId": "77213af2-10f2-46c3-8fd9-1b26a6ebbe6e"
      },
      "execution_count": null,
      "outputs": [
        {
          "output_type": "stream",
          "name": "stdout",
          "text": [
            "[1, 2, 3, 4, 5, 6, 7, 8, 9, 10]\n",
            "[ 7  9 11 13 15]\n"
          ]
        }
      ]
    },
    {
      "cell_type": "code",
      "source": [
        "a = np.arange(10)**2  # ** berarti kuadrat\n",
        "print(a)"
      ],
      "metadata": {
        "colab": {
          "base_uri": "https://localhost:8080/"
        },
        "id": "KjaM5L3XjqkI",
        "outputId": "82d83dc8-4125-4b4a-95d6-0742248cf625"
      },
      "execution_count": null,
      "outputs": [
        {
          "output_type": "stream",
          "name": "stdout",
          "text": [
            "[ 0  1  4  9 16 25 36 49 64 81]\n"
          ]
        }
      ]
    },
    {
      "cell_type": "code",
      "source": [
        "# mengambil nilai\n",
        "print(\"elemen ke 1 dari a adalah \", a[0])\n",
        "print(\"elemen ke 7 dari a adalah \", a[6])\n",
        "print(\"elemen terakhir  dari a adalah \", a[-1])"
      ],
      "metadata": {
        "colab": {
          "base_uri": "https://localhost:8080/"
        },
        "id": "FpTGCz_Vj1qK",
        "outputId": "da997af8-b38b-4f9c-cd9a-353d052369d0"
      },
      "execution_count": null,
      "outputs": [
        {
          "output_type": "stream",
          "name": "stdout",
          "text": [
            "elemen ke 1 dari a adalah  0\n",
            "elemen ke 7 dari a adalah  36\n",
            "elemen terakhir  dari a adalah  81\n"
          ]
        }
      ]
    },
    {
      "cell_type": "code",
      "source": [
        "# slicing\n",
        "print(\"elemen dari 1-6 adalah \", a[0:6])\n",
        "print(\"elemen ke 4 sampai akhir \", a[3:])\n",
        "print(\"elemen dari awal sampai 5 \", a[:5])"
      ],
      "metadata": {
        "colab": {
          "base_uri": "https://localhost:8080/"
        },
        "id": "oY7IMoOUj5xj",
        "outputId": "00aa2746-3fac-47f2-dca1-9adb107262a7"
      },
      "execution_count": null,
      "outputs": [
        {
          "output_type": "stream",
          "name": "stdout",
          "text": [
            "elemen dari 1-6 adalah  [ 0  1  4  9 16 25]\n",
            "elemen ke 4 sampai akhir  [ 9 16 25 36 49 64 81]\n",
            "elemen dari awal sampai 5  [ 0  1  4  9 16]\n"
          ]
        }
      ]
    },
    {
      "cell_type": "code",
      "source": [
        "a = np.array(([1, 2],\n",
        "              [3, 4]))\n",
        "b = np.ones([2, 1])#matriks 1, 2 baris 1 kolom\n",
        "\n",
        "\n",
        "print(\"Matriks a :\")\n",
        "print(a)\n",
        "print(\"Matriks b :\")\n",
        "print(b)"
      ],
      "metadata": {
        "colab": {
          "base_uri": "https://localhost:8080/"
        },
        "id": "C7pqe-b8kFvd",
        "outputId": "d1ae4ffc-522a-4513-8d49-feb8414d7b2b"
      },
      "execution_count": null,
      "outputs": [
        {
          "output_type": "stream",
          "name": "stdout",
          "text": [
            "Matriks a :\n",
            "[[1 2]\n",
            " [3 4]]\n",
            "Matriks b :\n",
            "[[1.]\n",
            " [1.]]\n"
          ]
        }
      ]
    },
    {
      "cell_type": "code",
      "source": [
        "# perkalian matiks\n",
        "c = np.dot(a, b)\n",
        "#c2 = a.dot(b)\n",
        "print(\"matriks c : \")\n",
        "print(c)\n",
        "#print(c2)"
      ],
      "metadata": {
        "colab": {
          "base_uri": "https://localhost:8080/"
        },
        "id": "F7Mu9KyakIK8",
        "outputId": "54451364-4d5a-4027-da89-6b3c5ff61d4e"
      },
      "execution_count": null,
      "outputs": [
        {
          "output_type": "stream",
          "name": "stdout",
          "text": [
            "matriks c : \n",
            "[[3.]\n",
            " [7.]]\n"
          ]
        }
      ]
    }
  ]
}